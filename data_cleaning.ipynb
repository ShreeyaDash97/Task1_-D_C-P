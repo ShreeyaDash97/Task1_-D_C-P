{
 "cells": [
  {
   "cell_type": "markdown",
   "id": "045c4de9",
   "metadata": {},
   "source": [
    "1. Load the dataset"
   ]
  },
  {
   "cell_type": "code",
   "execution_count": 1,
   "id": "cfba2474",
   "metadata": {},
   "outputs": [],
   "source": [
    "import pandas as pd\n",
    "\n",
    "df =  pd.read_csv('data.csv')"
   ]
  },
  {
   "cell_type": "markdown",
   "id": "5cc4c7b5",
   "metadata": {},
   "source": [
    "2. Handle Missing Values"
   ]
  },
  {
   "cell_type": "code",
   "execution_count": 3,
   "id": "b007b763",
   "metadata": {},
   "outputs": [
    {
     "name": "stdout",
     "output_type": "stream",
     "text": [
      "Date cleaned successfully. Here's a summary:\n",
      "Columns: ['date', 'category', 'value', 'product', 'sales', 'region', 'values']\n",
      "date        datetime64[ns]\n",
      "category            object\n",
      "value              float64\n",
      "product             object\n",
      "sales              float64\n",
      "region              object\n",
      "values             float64\n",
      "dtype: object\n",
      "Rows: 50\n"
     ]
    }
   ],
   "source": [
    "missing_summary = df.isnull().sum()\n",
    "# Step 1: Handle missing values\n",
    "df['Value'] = df['Value'].fillna(df['Value'].mean())\n",
    "df['Sales'] = df['Sales'].fillna(df['Sales'].mean())\n",
    "\n",
    "# Step 2: Remove duplicate rows\n",
    "df = df.drop_duplicates()\n",
    "\n",
    "# Step 3: Standardize text values (lowercase and strip whitespace)\n",
    "text_columns = df.select_dtypes(include = 'object').columns\n",
    "\n",
    "# Step 4: Convert 'Date' to datetime format\n",
    "df['Date'] = pd.to_datetime(df['Date'], errors = 'coerce', dayfirst = False)\n",
    "\n",
    "# Step 5: Rename column headers to be lowercase with underscores\n",
    "df.columns = df.columns.str.strip().str.lower().str.replace(' ','_')\n",
    "\n",
    "# Step 6: Ensure correct data types\n",
    "df['values'] = pd.to_numeric(df['value'], errors = 'coerce')\n",
    "df['sales'] = pd.to_numeric(df['sales'], errors = 'coerce')\n",
    "\n",
    "# Export the cleaned dataset\n",
    "df.to_csv('cleaned_data.csv',index = False)\n",
    "\n",
    "# Optional: Print a short summary\n",
    "print(\"Date cleaned successfully. Here's a summary:\")\n",
    "print(f\"Columns: {df.columns.tolist()}\")\n",
    "print(df.dtypes)\n",
    "print(f\"Rows: {len(df)}\")\n",
    "\n"
   ]
  },
  {
   "cell_type": "code",
   "execution_count": null,
   "id": "595cf859",
   "metadata": {},
   "outputs": [],
   "source": []
  }
 ],
 "metadata": {
  "kernelspec": {
   "display_name": "Python 3",
   "language": "python",
   "name": "python3"
  },
  "language_info": {
   "codemirror_mode": {
    "name": "ipython",
    "version": 3
   },
   "file_extension": ".py",
   "mimetype": "text/x-python",
   "name": "python",
   "nbconvert_exporter": "python",
   "pygments_lexer": "ipython3",
   "version": "3.13.0"
  }
 },
 "nbformat": 4,
 "nbformat_minor": 5
}
